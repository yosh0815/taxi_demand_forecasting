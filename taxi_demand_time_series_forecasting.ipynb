{
 "cells": [
  {
   "cell_type": "markdown",
   "metadata": {},
   "source": [
    "# Project description\n",
    "\n",
    "Sweet Lift Taxi company has collected historical data on taxi orders at airports. To attract more drivers during peak hours, we need to predict the amount of taxi orders for the next hour.\n",
    "\n",
    "The goal RMSE metric on the test set sis less than 48."
   ]
  },
  {
   "cell_type": "markdown",
   "metadata": {},
   "source": [
    "## Preparation"
   ]
  },
  {
   "cell_type": "markdown",
   "metadata": {},
   "source": [
    "We will import our necessary libraries and download our data."
   ]
  },
  {
   "cell_type": "code",
   "execution_count": 4,
   "metadata": {},
   "outputs": [
    {
     "ename": "ModuleNotFoundError",
     "evalue": "No module named 'pmdarima'",
     "output_type": "error",
     "traceback": [
      "\u001b[1;31m---------------------------------------------------------------------------\u001b[0m",
      "\u001b[1;31mModuleNotFoundError\u001b[0m                       Traceback (most recent call last)",
      "Cell \u001b[1;32mIn[4], line 4\u001b[0m\n\u001b[0;32m      2\u001b[0m \u001b[38;5;28;01mimport\u001b[39;00m \u001b[38;5;21;01mnumpy\u001b[39;00m \u001b[38;5;28;01mas\u001b[39;00m \u001b[38;5;21;01mnp\u001b[39;00m\n\u001b[0;32m      3\u001b[0m \u001b[38;5;28;01mfrom\u001b[39;00m \u001b[38;5;21;01mmatplotlib\u001b[39;00m \u001b[38;5;28;01mimport\u001b[39;00m pyplot \u001b[38;5;28;01mas\u001b[39;00m plt\n\u001b[1;32m----> 4\u001b[0m \u001b[38;5;28;01mfrom\u001b[39;00m \u001b[38;5;21;01mpmdarima\u001b[39;00m \u001b[38;5;28;01mimport\u001b[39;00m auto_arima\n\u001b[0;32m      5\u001b[0m \u001b[38;5;28;01mfrom\u001b[39;00m \u001b[38;5;21;01msklearn\u001b[39;00m\u001b[38;5;21;01m.\u001b[39;00m\u001b[38;5;21;01mmetrics\u001b[39;00m \u001b[38;5;28;01mimport\u001b[39;00m mean_squared_error\n\u001b[0;32m      6\u001b[0m \u001b[38;5;28;01mfrom\u001b[39;00m \u001b[38;5;21;01msklearn\u001b[39;00m\u001b[38;5;21;01m.\u001b[39;00m\u001b[38;5;21;01mmodel_selection\u001b[39;00m \u001b[38;5;28;01mimport\u001b[39;00m train_test_split\n",
      "\u001b[1;31mModuleNotFoundError\u001b[0m: No module named 'pmdarima'"
     ]
    }
   ],
   "source": [
    "import pandas as pd\n",
    "import numpy as np\n",
    "from matplotlib import pyplot as plt\n",
    "from pmdarima import auto_arima\n",
    "from sklearn.metrics import mean_squared_error\n",
    "from sklearn.model_selection import train_test_split\n",
    "from statsmodels.tsa.seasonal import seasonal_decompose\n",
    "from statsmodels.graphics.tsaplots import plot_acf\n",
    "from statsmodels.tsa.ar_model import AutoReg, ar_select_order\n",
    "from statsmodels.tsa.stattools import arma_order_select_ic\n",
    "from statsmodels.tsa.arima.model import ARIMA\n",
    "from statsmodels.tsa.statespace.sarimax import SARIMAX"
   ]
  },
  {
   "cell_type": "code",
   "execution_count": null,
   "metadata": {},
   "outputs": [],
   "source": [
    "data = pd.read_csv('https://practicum-content.s3.us-west-1.amazonaws.com/datasets/taxi.csv', parse_dates=['datetime'], index_col='datetime')"
   ]
  },
  {
   "cell_type": "markdown",
   "metadata": {},
   "source": [
    "We will resample our datetime column to 1 hour segments."
   ]
  },
  {
   "cell_type": "code",
   "execution_count": null,
   "metadata": {},
   "outputs": [],
   "source": [
    "data = data.resample('1H').sum()\n",
    "data.head()"
   ]
  },
  {
   "cell_type": "markdown",
   "metadata": {},
   "source": [
    "## Analysis"
   ]
  },
  {
   "cell_type": "markdown",
   "metadata": {},
   "source": [
    "We will now analyze the data, looking at trends and seasonanality."
   ]
  },
  {
   "cell_type": "code",
   "execution_count": null,
   "metadata": {},
   "outputs": [],
   "source": [
    "decomposed = seasonal_decompose(data)\n",
    "plt.figure(figsize=(8,8))\n",
    "plt.subplot(311)\n",
    "decomposed.trend.plot(ax=plt.gca())\n",
    "plt.title('Trend')\n",
    "plt.subplot(312)\n",
    "decomposed.seasonal.plot(ax=plt.gca())\n",
    "plt.title('Seasonality')\n",
    "plt.subplot(313)\n",
    "decomposed.resid.plot(ax=plt.gca())\n",
    "plt.title('Residuals')\n",
    "plt.tight_layout()\n",
    "plt.show()\n",
    "\n",
    "print(decomposed.seasonal.describe())"
   ]
  },
  {
   "cell_type": "markdown",
   "metadata": {},
   "source": [
    "We can see that the data is trending up towards the later months. It is hard to tell if we have seasonality from this information though. We don't have data for more than a year, so we can't tell if there is monthly or yearly seasonality. There may be daily seasonality, so we will examine that."
   ]
  },
  {
   "cell_type": "code",
   "execution_count": null,
   "metadata": {},
   "outputs": [],
   "source": [
    "plot_acf(data.dropna(), lags=96)\n",
    "plt.show()"
   ]
  },
  {
   "cell_type": "markdown",
   "metadata": {},
   "source": [
    "We can see from this data that we certainly have strong seasonality every 24 hours. This implies that taxi orders increase and spike around the same time each day, so we will make sure to use that seasonality to train our model."
   ]
  },
  {
   "cell_type": "markdown",
   "metadata": {},
   "source": [
    "## Training"
   ]
  },
  {
   "cell_type": "markdown",
   "metadata": {},
   "source": [
    "We will now make our features and then split our data into testing and training sets."
   ]
  },
  {
   "cell_type": "code",
   "execution_count": null,
   "metadata": {},
   "outputs": [],
   "source": [
    "def create_lag_features(df, lags=[1,2,3]):\n",
    "    df = df.copy()\n",
    "    for lag in lags:\n",
    "        df[f'lag_{lag}'] = df['num_orders'].shift(lag)\n",
    "    return df\n",
    "\n",
    "def add_time_features(df):\n",
    "    df = df.copy()\n",
    "    df['hour'] = df.index.hour\n",
    "    df['day_of_week'] = df.index.dayofweek\n",
    "    return df"
   ]
  },
  {
   "cell_type": "code",
   "execution_count": null,
   "metadata": {},
   "outputs": [],
   "source": [
    "data_features = create_lag_features(data)\n",
    "data_features = add_time_features(data_features)\n",
    "data_features = data_features.dropna()"
   ]
  },
  {
   "cell_type": "code",
   "execution_count": null,
   "metadata": {},
   "outputs": [],
   "source": [
    "train, test = train_test_split(data_features, shuffle=False, test_size=0.1)"
   ]
  },
  {
   "cell_type": "markdown",
   "metadata": {},
   "source": [
    "Our data has been prepared, so we will now test various models and parameters to see which is best."
   ]
  },
  {
   "cell_type": "markdown",
   "metadata": {},
   "source": [
    "We will start by training an autoregressive model. We will use 24 lags because we found earlier that our seasonality is daily, every 24 hours."
   ]
  },
  {
   "cell_type": "code",
   "execution_count": null,
   "metadata": {},
   "outputs": [],
   "source": [
    "ar_model = AutoReg(train['num_orders'], lags=24, seasonal=True)\n",
    "ar_model = ar_model.fit()\n",
    "start_value = len(train)\n",
    "end_value = len(train) + len(test) - 1\n",
    "ar_pred = ar_model.predict(start=start_value, end=end_value, dynamic=False)\n",
    "plt.plot(ar_pred, color='blue', label='AR Predictions')\n",
    "plt.plot(test, color='red', label='AR Test')\n",
    "plt.legend(loc='upper left')\n",
    "plt.xticks(rotation=90)\n",
    "plt.show()"
   ]
  },
  {
   "cell_type": "code",
   "execution_count": null,
   "metadata": {},
   "outputs": [],
   "source": [
    "ar_rmse = np.sqrt(mean_squared_error(test['num_orders'], ar_pred))\n",
    "print(f'RMSE: {ar_rmse:.2f}')"
   ]
  },
  {
   "cell_type": "markdown",
   "metadata": {},
   "source": [
    "Our RMSE for this model is 68.93. We will test an MA model as well and see which is better."
   ]
  },
  {
   "cell_type": "code",
   "execution_count": null,
   "metadata": {},
   "outputs": [],
   "source": [
    "res = arma_order_select_ic(y=train['num_orders'], max_ar=3, max_ma=3)\n",
    "ma_order = res.bic_min_order[1]\n",
    "ar_order = res.bic_min_order[0]\n",
    "ma_model = ARIMA(train['num_orders'], order=(0, 0, ma_order))\n",
    "ma_model = ma_model.fit()\n",
    "ma_pred = ma_model.predict(start=start_value, end=end_value, dynamic=False)\n",
    "plt.plot(ma_pred, color='blue', label='MA Predictions')\n",
    "plt.plot(test, color='red', label='MA Test')\n",
    "plt.legend(loc='upper left')\n",
    "plt.xticks(rotation=90)\n",
    "plt.show()"
   ]
  },
  {
   "cell_type": "code",
   "execution_count": null,
   "metadata": {},
   "outputs": [],
   "source": [
    "ma_rmse = np.sqrt(mean_squared_error(test['num_orders'], ma_pred))\n",
    "print(f'RMSE: {ma_rmse:.2f}')"
   ]
  },
  {
   "cell_type": "markdown",
   "metadata": {},
   "source": [
    "The MA model gave us an RMSE of 84.71, not quite as good as the AR model. Finally, we will try an SARIMA model because our data is non-stationary and seasonal."
   ]
  },
  {
   "cell_type": "code",
   "execution_count": null,
   "metadata": {},
   "outputs": [],
   "source": [
    "order = (1, 1, 1)\n",
    "seasonal_order = (1, 1, 1, 24)\n",
    "sarima_model = SARIMAX(train['num_orders'],\n",
    "                       order=order,\n",
    "                       seasonal_order=seasonal_order,\n",
    "                       enforce_stationarity=False,\n",
    "                       enforce_invertibility=False)\n",
    "sarima_result = sarima_model.fit(disp=False)\n",
    "n_periods = len(test)\n",
    "sarima_pred = sarima_result.forecast(steps=n_periods)\n",
    "sarima_rmse = np.sqrt(mean_squared_error(test['num_orders'], sarima_pred))\n",
    "print(f'SARIMA RMSE: {sarima_rmse:.2f}')"
   ]
  },
  {
   "cell_type": "markdown",
   "metadata": {},
   "source": [
    "Our SARIMA Model is our best model with an RMSE of 44.50, which is under our goal of 48, so we will show our final test with that model."
   ]
  },
  {
   "cell_type": "markdown",
   "metadata": {},
   "source": [
    "## Testing"
   ]
  },
  {
   "cell_type": "code",
   "execution_count": null,
   "metadata": {},
   "outputs": [],
   "source": [
    "plt.plot(test.index, test['num_orders'], label='Actual', color='red')\n",
    "plt.plot(test.index, sarima_pred, label='SARIMA Forecast', color='blue')\n",
    "plt.legend()\n",
    "plt.title('SARIMA Forecast vs Actual')\n",
    "plt.xticks(rotation=90)\n",
    "plt.show()"
   ]
  },
  {
   "cell_type": "markdown",
   "metadata": {},
   "source": [
    "## Conclusion"
   ]
  },
  {
   "cell_type": "markdown",
   "metadata": {},
   "source": [
    "Our SARIMA model was our best model, with an RMSE of 44.50. We can see from the plot above that our patterns follow similarly along the trend and seasonality. "
   ]
  }
 ],
 "metadata": {
  "ExecuteTimeLog": [
   {
    "duration": 2849,
    "start_time": "2025-04-07T18:20:39.462Z"
   },
   {
    "duration": 2967,
    "start_time": "2025-04-07T18:21:02.545Z"
   },
   {
    "duration": 920,
    "start_time": "2025-04-07T18:21:49.581Z"
   },
   {
    "duration": 785,
    "start_time": "2025-04-07T18:22:00.859Z"
   },
   {
    "duration": 12,
    "start_time": "2025-04-07T18:22:12.896Z"
   },
   {
    "duration": 3,
    "start_time": "2025-04-07T18:23:51.238Z"
   },
   {
    "duration": 91,
    "start_time": "2025-04-07T18:23:56.283Z"
   },
   {
    "duration": 267,
    "start_time": "2025-04-07T18:24:53.602Z"
   },
   {
    "duration": 10,
    "start_time": "2025-04-07T18:25:06.249Z"
   },
   {
    "duration": 813,
    "start_time": "2025-04-07T18:25:46.298Z"
   },
   {
    "duration": 9,
    "start_time": "2025-04-07T18:25:49.309Z"
   },
   {
    "duration": 29,
    "start_time": "2025-04-07T18:26:57.739Z"
   },
   {
    "duration": 29,
    "start_time": "2025-04-07T18:27:10.513Z"
   },
   {
    "duration": 793,
    "start_time": "2025-04-07T18:27:26.553Z"
   },
   {
    "duration": 8,
    "start_time": "2025-04-07T18:27:28.278Z"
   },
   {
    "duration": 30,
    "start_time": "2025-04-07T18:28:11.461Z"
   },
   {
    "duration": 682,
    "start_time": "2025-04-07T18:31:18.180Z"
   },
   {
    "duration": 10,
    "start_time": "2025-04-07T18:31:20.717Z"
   },
   {
    "duration": 9,
    "start_time": "2025-04-07T18:31:41.020Z"
   },
   {
    "duration": 2,
    "start_time": "2025-04-07T18:33:30.301Z"
   },
   {
    "duration": 3,
    "start_time": "2025-04-07T18:38:43.784Z"
   },
   {
    "duration": 425,
    "start_time": "2025-04-07T18:41:22.499Z"
   },
   {
    "duration": 555,
    "start_time": "2025-04-07T18:41:34.558Z"
   },
   {
    "duration": 600,
    "start_time": "2025-04-07T18:46:43.007Z"
   },
   {
    "duration": 3,
    "start_time": "2025-04-07T18:50:10.303Z"
   },
   {
    "duration": 16,
    "start_time": "2025-04-07T18:50:26.082Z"
   },
   {
    "duration": 196,
    "start_time": "2025-04-07T18:50:40.575Z"
   },
   {
    "duration": 176,
    "start_time": "2025-04-07T18:51:29.016Z"
   },
   {
    "duration": 3,
    "start_time": "2025-04-07T19:05:21.177Z"
   },
   {
    "duration": 3,
    "start_time": "2025-04-07T20:11:35.383Z"
   },
   {
    "duration": 9,
    "start_time": "2025-04-07T20:13:44.288Z"
   },
   {
    "duration": 3,
    "start_time": "2025-04-07T20:23:13.905Z"
   },
   {
    "duration": 19,
    "start_time": "2025-04-07T20:23:15.924Z"
   },
   {
    "duration": 9,
    "start_time": "2025-04-07T20:23:21.907Z"
   },
   {
    "duration": 3,
    "start_time": "2025-04-07T20:23:57.666Z"
   },
   {
    "duration": 4,
    "start_time": "2025-04-07T20:25:35.000Z"
   },
   {
    "duration": 3,
    "start_time": "2025-04-07T20:31:31.429Z"
   },
   {
    "duration": 261,
    "start_time": "2025-04-07T20:40:32.607Z"
   },
   {
    "duration": 209,
    "start_time": "2025-04-07T20:43:37.203Z"
   },
   {
    "duration": 160,
    "start_time": "2025-04-07T20:54:01.500Z"
   },
   {
    "duration": 1170,
    "start_time": "2025-04-07T20:54:12.136Z"
   },
   {
    "duration": 116,
    "start_time": "2025-04-07T20:54:15.979Z"
   },
   {
    "duration": 1066,
    "start_time": "2025-04-07T20:54:32.885Z"
   },
   {
    "duration": 645,
    "start_time": "2025-04-07T20:54:33.954Z"
   },
   {
    "duration": 11,
    "start_time": "2025-04-07T20:54:34.600Z"
   },
   {
    "duration": 596,
    "start_time": "2025-04-07T20:54:34.612Z"
   },
   {
    "duration": 178,
    "start_time": "2025-04-07T20:54:35.212Z"
   },
   {
    "duration": 4,
    "start_time": "2025-04-07T20:54:35.391Z"
   },
   {
    "duration": 9,
    "start_time": "2025-04-07T20:54:35.396Z"
   },
   {
    "duration": 25,
    "start_time": "2025-04-07T20:54:35.406Z"
   },
   {
    "duration": 451,
    "start_time": "2025-04-07T20:54:35.433Z"
   },
   {
    "duration": 3399,
    "start_time": "2025-04-07T21:59:04.625Z"
   },
   {
    "duration": 916,
    "start_time": "2025-04-07T21:59:08.026Z"
   },
   {
    "duration": 14,
    "start_time": "2025-04-07T21:59:08.946Z"
   },
   {
    "duration": 775,
    "start_time": "2025-04-07T21:59:08.962Z"
   },
   {
    "duration": 259,
    "start_time": "2025-04-07T21:59:09.739Z"
   },
   {
    "duration": 4,
    "start_time": "2025-04-07T21:59:10.000Z"
   },
   {
    "duration": 20,
    "start_time": "2025-04-07T21:59:10.006Z"
   },
   {
    "duration": 6,
    "start_time": "2025-04-07T21:59:10.029Z"
   },
   {
    "duration": 567,
    "start_time": "2025-04-07T21:59:10.036Z"
   },
   {
    "duration": 43,
    "start_time": "2025-04-07T21:59:44.703Z"
   },
   {
    "duration": 40,
    "start_time": "2025-04-07T21:59:44.925Z"
   },
   {
    "duration": 309,
    "start_time": "2025-04-07T22:04:30.176Z"
   },
   {
    "duration": 335,
    "start_time": "2025-04-07T22:05:37.944Z"
   },
   {
    "duration": 295,
    "start_time": "2025-04-07T22:05:48.086Z"
   },
   {
    "duration": 3,
    "start_time": "2025-04-07T22:07:29.565Z"
   },
   {
    "duration": 4,
    "start_time": "2025-04-07T22:09:41.041Z"
   },
   {
    "duration": 63821,
    "start_time": "2025-04-07T22:17:08.047Z"
   },
   {
    "duration": 4,
    "start_time": "2025-04-07T22:18:26.353Z"
   },
   {
    "duration": 3,
    "start_time": "2025-04-07T22:20:14.999Z"
   },
   {
    "duration": 17,
    "start_time": "2025-04-07T22:27:26.344Z"
   },
   {
    "duration": 271,
    "start_time": "2025-04-07T22:27:36.360Z"
   },
   {
    "duration": 72,
    "start_time": "2025-04-07T22:29:46.990Z"
   },
   {
    "duration": 6,
    "start_time": "2025-04-07T22:30:25.640Z"
   },
   {
    "duration": 4,
    "start_time": "2025-04-07T22:31:17.759Z"
   },
   {
    "duration": 3,
    "start_time": "2025-04-07T22:31:30.830Z"
   },
   {
    "duration": 67,
    "start_time": "2025-04-07T22:32:23.046Z"
   },
   {
    "duration": 4,
    "start_time": "2025-04-07T22:35:55.976Z"
   },
   {
    "duration": 6,
    "start_time": "2025-04-07T22:37:14.649Z"
   },
   {
    "duration": 18209,
    "start_time": "2025-04-07T22:37:22.286Z"
   },
   {
    "duration": 174,
    "start_time": "2025-04-07T22:38:25.453Z"
   },
   {
    "duration": 1063,
    "start_time": "2025-04-07T22:58:04.331Z"
   },
   {
    "duration": 617,
    "start_time": "2025-04-07T22:58:05.397Z"
   },
   {
    "duration": 12,
    "start_time": "2025-04-07T22:58:06.015Z"
   },
   {
    "duration": 597,
    "start_time": "2025-04-07T22:58:06.029Z"
   },
   {
    "duration": 201,
    "start_time": "2025-04-07T22:58:06.628Z"
   },
   {
    "duration": 4,
    "start_time": "2025-04-07T22:58:06.831Z"
   },
   {
    "duration": 10,
    "start_time": "2025-04-07T22:58:06.837Z"
   },
   {
    "duration": 24,
    "start_time": "2025-04-07T22:58:06.849Z"
   },
   {
    "duration": 363,
    "start_time": "2025-04-07T22:58:06.876Z"
   },
   {
    "duration": 4,
    "start_time": "2025-04-07T22:58:07.241Z"
   },
   {
    "duration": 2844,
    "start_time": "2025-04-08T16:29:53.181Z"
   },
   {
    "duration": 781,
    "start_time": "2025-04-08T16:29:56.028Z"
   },
   {
    "duration": 12,
    "start_time": "2025-04-08T16:29:56.810Z"
   },
   {
    "duration": 611,
    "start_time": "2025-04-08T16:29:56.824Z"
   },
   {
    "duration": 213,
    "start_time": "2025-04-08T16:29:57.438Z"
   },
   {
    "duration": 3,
    "start_time": "2025-04-08T16:29:57.653Z"
   },
   {
    "duration": 9,
    "start_time": "2025-04-08T16:29:57.657Z"
   },
   {
    "duration": 4,
    "start_time": "2025-04-08T16:29:57.667Z"
   },
   {
    "duration": 328,
    "start_time": "2025-04-08T16:29:57.673Z"
   },
   {
    "duration": 9,
    "start_time": "2025-04-08T16:29:58.003Z"
   },
   {
    "duration": 1074,
    "start_time": "2025-04-08T16:48:29.052Z"
   },
   {
    "duration": 615,
    "start_time": "2025-04-08T16:48:30.128Z"
   },
   {
    "duration": 11,
    "start_time": "2025-04-08T16:48:30.745Z"
   },
   {
    "duration": 579,
    "start_time": "2025-04-08T16:48:30.757Z"
   },
   {
    "duration": 216,
    "start_time": "2025-04-08T16:48:31.340Z"
   },
   {
    "duration": 4,
    "start_time": "2025-04-08T16:48:31.558Z"
   },
   {
    "duration": 10,
    "start_time": "2025-04-08T16:48:31.563Z"
   },
   {
    "duration": 3,
    "start_time": "2025-04-08T16:48:31.574Z"
   },
   {
    "duration": 390,
    "start_time": "2025-04-08T16:48:31.579Z"
   },
   {
    "duration": 3,
    "start_time": "2025-04-08T16:48:31.973Z"
   },
   {
    "duration": 74090,
    "start_time": "2025-04-08T16:48:31.978Z"
   },
   {
    "duration": 4,
    "start_time": "2025-04-08T16:49:46.070Z"
   },
   {
    "duration": 18483,
    "start_time": "2025-04-08T16:49:46.076Z"
   },
   {
    "duration": 160,
    "start_time": "2025-04-08T16:50:04.563Z"
   },
   {
    "duration": 1142,
    "start_time": "2025-04-08T17:01:56.502Z"
   },
   {
    "duration": 707,
    "start_time": "2025-04-08T17:01:57.648Z"
   },
   {
    "duration": 11,
    "start_time": "2025-04-08T17:01:58.357Z"
   },
   {
    "duration": 555,
    "start_time": "2025-04-08T17:01:58.369Z"
   },
   {
    "duration": 193,
    "start_time": "2025-04-08T17:01:58.927Z"
   },
   {
    "duration": 3,
    "start_time": "2025-04-08T17:01:59.122Z"
   },
   {
    "duration": 9,
    "start_time": "2025-04-08T17:01:59.127Z"
   },
   {
    "duration": 4,
    "start_time": "2025-04-08T17:01:59.137Z"
   },
   {
    "duration": 377,
    "start_time": "2025-04-08T17:01:59.142Z"
   },
   {
    "duration": 4,
    "start_time": "2025-04-08T17:01:59.521Z"
   },
   {
    "duration": 72680,
    "start_time": "2025-04-08T17:01:59.527Z"
   },
   {
    "duration": 3,
    "start_time": "2025-04-08T17:03:12.209Z"
   },
   {
    "duration": 24637,
    "start_time": "2025-04-08T17:03:12.214Z"
   },
   {
    "duration": 303,
    "start_time": "2025-04-08T17:13:35.303Z"
   }
  ],
  "kernelspec": {
   "display_name": "Python 3 (ipykernel)",
   "language": "python",
   "name": "python3"
  },
  "language_info": {
   "codemirror_mode": {
    "name": "ipython",
    "version": 3
   },
   "file_extension": ".py",
   "mimetype": "text/x-python",
   "name": "python",
   "nbconvert_exporter": "python",
   "pygments_lexer": "ipython3",
   "version": "3.12.7"
  },
  "toc": {
   "base_numbering": 1,
   "nav_menu": {},
   "number_sections": true,
   "sideBar": true,
   "skip_h1_title": true,
   "title_cell": "Table of Contents",
   "title_sidebar": "Contents",
   "toc_cell": false,
   "toc_position": {},
   "toc_section_display": true,
   "toc_window_display": false
  }
 },
 "nbformat": 4,
 "nbformat_minor": 4
}
